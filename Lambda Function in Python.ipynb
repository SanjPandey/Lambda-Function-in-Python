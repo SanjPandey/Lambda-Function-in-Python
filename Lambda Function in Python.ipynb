{
 "cells": [
  {
   "cell_type": "code",
   "execution_count": 1,
   "id": "0dea312b",
   "metadata": {},
   "outputs": [],
   "source": [
    "#Without lambda function"
   ]
  },
  {
   "cell_type": "code",
   "execution_count": 2,
   "id": "afdcc63d",
   "metadata": {},
   "outputs": [
    {
     "name": "stdout",
     "output_type": "stream",
     "text": [
      "9\n"
     ]
    }
   ],
   "source": [
    "def test(a,b):\n",
    "    c=a+b\n",
    "    return c\n",
    "d=test(5,4)\n",
    "print(d)"
   ]
  },
  {
   "cell_type": "code",
   "execution_count": 3,
   "id": "4aeb781f",
   "metadata": {},
   "outputs": [],
   "source": [
    "#now use lambda: Lambda function is called inline function\n"
   ]
  },
  {
   "cell_type": "code",
   "execution_count": 4,
   "id": "6ee887c5",
   "metadata": {},
   "outputs": [
    {
     "data": {
      "text/plain": [
       "7"
      ]
     },
     "execution_count": 4,
     "metadata": {},
     "output_type": "execute_result"
    }
   ],
   "source": [
    "test=lambda a,b:a+b #test variable,lambda is funcion,a,b is input, and a+b is the logic or process something which you want to display\n",
    "test(3,4)"
   ]
  },
  {
   "cell_type": "code",
   "execution_count": 5,
   "id": "88365477",
   "metadata": {},
   "outputs": [
    {
     "name": "stdout",
     "output_type": "stream",
     "text": [
      "[10]\n"
     ]
    }
   ],
   "source": [
    "def test(a,b):\n",
    "    l=[]\n",
    "    for i in range(a,b):\n",
    "        if i%2==0:\n",
    "            l.append(i)\n",
    "        return l\n",
    "a=test(10,20)\n",
    "print(a)"
   ]
  },
  {
   "cell_type": "code",
   "execution_count": 7,
   "id": "f31d3f6d",
   "metadata": {},
   "outputs": [
    {
     "data": {
      "text/plain": [
       "[10, 12, 14, 16, 18]"
      ]
     },
     "execution_count": 7,
     "metadata": {},
     "output_type": "execute_result"
    }
   ],
   "source": [
    "test=lambda a,b :[i for i in range(a,b) if i%2==0]\n",
    "test(10,20)"
   ]
  },
  {
   "cell_type": "code",
   "execution_count": 9,
   "id": "e2d66372",
   "metadata": {},
   "outputs": [],
   "source": [
    "#Filter: Only return tru true value.filter took only two value,one name of function,and other is input value"
   ]
  },
  {
   "cell_type": "code",
   "execution_count": 10,
   "id": "d499d09d",
   "metadata": {},
   "outputs": [],
   "source": [
    "#Ex. of Filter  Filter took two argument,, First argument name of function,second argument input"
   ]
  },
  {
   "cell_type": "code",
   "execution_count": 11,
   "id": "1dcb2500",
   "metadata": {},
   "outputs": [],
   "source": [
    "def test(a):\n",
    "    print(\"executing\")\n",
    "    if a%2==0:\n",
    "        return True\n",
    "    else:\n",
    "        return False\n",
    "    \n",
    "a=[1,2,3,4,5,6,7,8,10]\n",
    "a=filter(test,a)"
   ]
  },
  {
   "cell_type": "code",
   "execution_count": 12,
   "id": "490c0248",
   "metadata": {},
   "outputs": [
    {
     "name": "stdout",
     "output_type": "stream",
     "text": [
      "executing\n",
      "executing\n",
      "executing\n",
      "executing\n",
      "executing\n",
      "executing\n",
      "executing\n",
      "executing\n",
      "executing\n"
     ]
    },
    {
     "data": {
      "text/plain": [
       "{2, 4, 6, 8, 10}"
      ]
     },
     "execution_count": 12,
     "metadata": {},
     "output_type": "execute_result"
    }
   ],
   "source": [
    "set(a)"
   ]
  },
  {
   "cell_type": "code",
   "execution_count": null,
   "id": "f6629ed9",
   "metadata": {},
   "outputs": [],
   "source": [
    "#map Function  : Map return only True and False value"
   ]
  },
  {
   "cell_type": "code",
   "execution_count": 13,
   "id": "d0040261",
   "metadata": {},
   "outputs": [],
   "source": [
    "def test(a):\n",
    "    print(\"executing\")\n",
    "    if a%2==0:\n",
    "        return True\n",
    "    else:\n",
    "        return False\n",
    "    \n",
    "a=[1,2,3,4,5,6,7,8,10]\n",
    "a=map(test,a)"
   ]
  },
  {
   "cell_type": "code",
   "execution_count": 14,
   "id": "8aa54b4e",
   "metadata": {},
   "outputs": [
    {
     "name": "stdout",
     "output_type": "stream",
     "text": [
      "executing\n",
      "executing\n",
      "executing\n",
      "executing\n",
      "executing\n",
      "executing\n",
      "executing\n",
      "executing\n",
      "executing\n"
     ]
    },
    {
     "data": {
      "text/plain": [
       "[False, True, False, True, False, True, False, True, True]"
      ]
     },
     "execution_count": 14,
     "metadata": {},
     "output_type": "execute_result"
    }
   ],
   "source": [
    "list(a)"
   ]
  },
  {
   "cell_type": "code",
   "execution_count": null,
   "id": "6a5bbac4",
   "metadata": {},
   "outputs": [],
   "source": [
    "#rduce Function: It memory"
   ]
  },
  {
   "cell_type": "code",
   "execution_count": 17,
   "id": "622931ad",
   "metadata": {},
   "outputs": [
    {
     "data": {
      "text/plain": [
       "40320"
      ]
     },
     "execution_count": 17,
     "metadata": {},
     "output_type": "execute_result"
    }
   ],
   "source": [
    "from functools import reduce\n",
    "\n",
    "def test(m,n):\n",
    "    return m*n\n",
    "\n",
    "a=[1,2,3,4,5,6,7,8]\n",
    "\n",
    "reduce(test,a)"
   ]
  },
  {
   "cell_type": "code",
   "execution_count": 57,
   "id": "0d416f22",
   "metadata": {},
   "outputs": [
    {
     "name": "stdout",
     "output_type": "stream",
     "text": [
      "Enter a number11\n",
      "value of a is 10 counter value is 1\n",
      "value of a is 5.0 counter value is 2\n",
      "value of a is 4.0 counter value is 3\n",
      "value of a is 2.0 counter value is 4\n",
      "value of a is 1.0 counter value is 5\n",
      "value of a is 0.0 counter value is 6\n",
      "6\n"
     ]
    }
   ],
   "source": [
    "a = int(input(\"Enter a number\"))\n",
    "counter = 0\n",
    "while a>0:\n",
    "\n",
    "    if a % 2 == 1:\n",
    "        a = a - 1\n",
    "    elif a % 2 == 0:\n",
    "        a = a / 2\n",
    "    counter  +=1\n",
    "\n",
    "    print(\"value of a is\", a, \"counter value is\", counter)\n",
    "\n",
    "print(counter)"
   ]
  },
  {
   "cell_type": "code",
   "execution_count": null,
   "id": "165495f2",
   "metadata": {},
   "outputs": [],
   "source": [
    "# Q. 1\n",
    "#get input from user\n",
    "# if number is odd,then it will be -1\n",
    "# if number is even,then it will be %2\n",
    "\n",
    "#11\n",
    "# 11-1=10\n",
    "# 10/2=5\n",
    "# 5-1=4\n",
    "# 4%2=2\n",
    "# 2/2=0\n"
   ]
  },
  {
   "cell_type": "code",
   "execution_count": 36,
   "id": "e9bd9af0",
   "metadata": {},
   "outputs": [
    {
     "name": "stdout",
     "output_type": "stream",
     "text": [
      "value of a is 10 counter value is 1\n",
      "value of a is 5.0 counter value is 2\n",
      "value of a is 4.0 counter value is 3\n",
      "value of a is 2.0 counter value is 4\n",
      "value of a is 1.0 counter value is 5\n",
      "value of a is 0.0 counter value is 6\n",
      "6\n"
     ]
    }
   ],
   "source": [
    "a=11\n",
    "\n",
    "counter=0\n",
    "while a>0:\n",
    "    \n",
    "    if a%2 == 1:\n",
    "        a = a - 1\n",
    "    elif a % 2 == 0:\n",
    "        a = a / 2\n",
    "    counter  +=1\n",
    "    print(\"value of a is\",a,\"counter value is\",counter)\n",
    "    \n",
    "print(counter)"
   ]
  },
  {
   "cell_type": "code",
   "execution_count": null,
   "id": "5c1a6895",
   "metadata": {},
   "outputs": [],
   "source": []
  }
 ],
 "metadata": {
  "kernelspec": {
   "display_name": "Python 3 (ipykernel)",
   "language": "python",
   "name": "python3"
  },
  "language_info": {
   "codemirror_mode": {
    "name": "ipython",
    "version": 3
   },
   "file_extension": ".py",
   "mimetype": "text/x-python",
   "name": "python",
   "nbconvert_exporter": "python",
   "pygments_lexer": "ipython3",
   "version": "3.11.5"
  }
 },
 "nbformat": 4,
 "nbformat_minor": 5
}
